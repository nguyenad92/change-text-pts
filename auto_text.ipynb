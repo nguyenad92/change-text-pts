{
 "metadata": {
  "language_info": {
   "codemirror_mode": {
    "name": "ipython",
    "version": 3
   },
   "file_extension": ".py",
   "mimetype": "text/x-python",
   "name": "python",
   "nbconvert_exporter": "python",
   "pygments_lexer": "ipython3",
   "version": "3.8.3-final"
  },
  "orig_nbformat": 2,
  "kernelspec": {
   "name": "Python 3.8.3 64-bit",
   "display_name": "Python 3.8.3 64-bit",
   "metadata": {
    "interpreter": {
     "hash": "2db524e06e9f5f4ffedc911c917cb75e12dbc923643829bf417064a77eb14d37"
    }
   }
  }
 },
 "nbformat": 4,
 "nbformat_minor": 2,
 "cells": [
  {
   "cell_type": "code",
   "execution_count": 9,
   "metadata": {},
   "outputs": [],
   "source": [
    "import win32com.client\n",
    "import os\n",
    "\n",
    "psApp = win32com.client.Dispatch('Photoshop.Application')"
   ]
  },
  {
   "cell_type": "code",
   "execution_count": 10,
   "metadata": {},
   "outputs": [
    {
     "output_type": "execute_result",
     "data": {
      "text/plain": [
       "<COMObject Open>"
      ]
     },
     "metadata": {},
     "execution_count": 10
    }
   ],
   "source": [
    "path = r\"C:\\Users\\nguye\\Desktop\\Live\\EM-YOUTUBE.psd\"\n",
    "psApp.Open(path)"
   ]
  },
  {
   "cell_type": "code",
   "execution_count": 11,
   "metadata": {},
   "outputs": [],
   "source": [
    "doc = psApp.Application.ActiveDocument"
   ]
  },
  {
   "cell_type": "code",
   "execution_count": 12,
   "metadata": {},
   "outputs": [
    {
     "output_type": "stream",
     "name": "stdout",
     "text": [
      "11.01.2020\n"
     ]
    }
   ],
   "source": [
    "import datetime\n",
    "layerText = doc.ArtLayers['date']\n",
    "text_of_layer = layerText.TextItem\n",
    "today = datetime.date.today()\n",
    "if today.weekday() == 6:\n",
    "    today += datetime.timedelta(7)\n",
    "else:\n",
    "    while today.weekday() != 6:\n",
    "        today += datetime.timedelta(1)\n",
    "print(today.strftime('%m.%d.%Y'))\n",
    "text_of_layer.contents = today.strftime('%m.%d.%Y')"
   ]
  },
  {
   "cell_type": "code",
   "execution_count": null,
   "metadata": {},
   "outputs": [],
   "source": []
  },
  {
   "cell_type": "code",
   "execution_count": 13,
   "metadata": {},
   "outputs": [],
   "source": [
    "#png save options\n",
    "options = win32com.client.Dispatch('Photoshop.ExportOptionsSaveForWeb')\n",
    "options.Format = 13   # PNG\n",
    "options.PNG8 = True  # Sets it to PNG-8 bit\n",
    "\n",
    "#new folder save location\n",
    "folder, filename = os.path.split( path )\n",
    "\n",
    "filename, ext = os.path.splitext( filename )\n",
    "filenamePng = filename + \".png\"\n",
    "saveDir = r\"C:\\Users\\nguye\\Desktop\\Live\"\n",
    "newSave = os.path.join( saveDir, filenamePng )\n",
    "\n",
    "##&& check to make sure file does not already exist\n",
    "\n",
    "\n",
    "#open image\n",
    "# doc = psApp.Open(imagePath, None)\n",
    "# #run action script\n",
    "# psApp.DoAction( actionScript, 'WaterMark')\n",
    "#save\n",
    "doc.Export(ExportIn=newSave, ExportAs=2, Options=options)\n",
    "doc.Close(2)\n",
    "psApp.Quit()"
   ]
  },
  {
   "cell_type": "code",
   "execution_count": null,
   "metadata": {},
   "outputs": [],
   "source": []
  }
 ]
}