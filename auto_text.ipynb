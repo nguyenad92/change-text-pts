{
 "metadata": {
  "language_info": {
   "codemirror_mode": {
    "name": "ipython",
    "version": 3
   },
   "file_extension": ".py",
   "mimetype": "text/x-python",
   "name": "python",
   "nbconvert_exporter": "python",
   "pygments_lexer": "ipython3",
   "version": "3.8.3-final"
  },
  "orig_nbformat": 2,
  "kernelspec": {
   "name": "Python 3.8.3 64-bit",
   "display_name": "Python 3.8.3 64-bit",
   "metadata": {
    "interpreter": {
     "hash": "2db524e06e9f5f4ffedc911c917cb75e12dbc923643829bf417064a77eb14d37"
    }
   }
  }
 },
 "nbformat": 4,
 "nbformat_minor": 2,
 "cells": [
  {
   "cell_type": "code",
   "execution_count": 17,
   "metadata": {},
   "outputs": [],
   "source": [
    "import win32com.client\n",
    "import os\n",
    "\n",
    "psApp = win32com.client.Dispatch('Photoshop.Application')"
   ]
  },
  {
   "cell_type": "code",
   "execution_count": 18,
   "metadata": {},
   "outputs": [
    {
     "output_type": "execute_result",
     "data": {
      "text/plain": [
       "<COMObject Open>"
      ]
     },
     "metadata": {},
     "execution_count": 18
    }
   ],
   "source": [
    "psApp.Open(r\"C:\\Users\\nguye\\Desktop\\Live\\EM-YOUTUBE.psd\")"
   ]
  },
  {
   "cell_type": "code",
   "execution_count": 19,
   "metadata": {},
   "outputs": [],
   "source": [
    "doc = psApp.Application.ActiveDocument"
   ]
  },
  {
   "cell_type": "code",
   "execution_count": 38,
   "metadata": {},
   "outputs": [
    {
     "output_type": "stream",
     "name": "stdout",
     "text": [
      "2020-10-26\n"
     ]
    }
   ],
   "source": [
    "import datetime\n",
    "layerText = doc.ArtLayers['date']\n",
    "text_of_layer = layerText.TextItem\n",
    "today = datetime.date.today()\n",
    "# next_Sunday = today + datetime.timedelta(days=-today.weekday(), weeks=1)\n",
    "while today.weekday() != 0:\n",
    "    today += datetime.timedelta(1)\n",
    "print(today)\n",
    "# text_of_layer.contents = next_Sunday"
   ]
  },
  {
   "cell_type": "code",
   "execution_count": null,
   "metadata": {},
   "outputs": [],
   "source": []
  }
 ]
}